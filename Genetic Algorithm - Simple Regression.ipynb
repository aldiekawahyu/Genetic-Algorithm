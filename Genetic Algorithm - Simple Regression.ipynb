{
 "cells": [
  {
   "cell_type": "code",
   "execution_count": 324,
   "metadata": {},
   "outputs": [],
   "source": [
    "import numpy as np\n",
    "import pandas as pd\n",
    "import matplotlib.pyplot as plt\n",
    "import random\n",
    "from sklearn.model_selection import train_test_split\n",
    "\n",
    "plt.style.use('seaborn')"
   ]
  },
  {
   "cell_type": "markdown",
   "metadata": {},
   "source": [
    "# Actual Data"
   ]
  },
  {
   "cell_type": "code",
   "execution_count": 325,
   "metadata": {},
   "outputs": [],
   "source": [
    "X = np.linspace(0,1,data_length)\n",
    "Y = np.random.randint(25) * X**2 + np.random.randint(25) * X + np.random.randint(25)\n",
    "noise = np.random.normal(0,1,100) \n",
    "actual_data = Y + noise\n",
    "\n",
    "X_train, X_test, y_train, y_test = train_test_split(X, actual_data,test_size = 0.25)"
   ]
  },
  {
   "cell_type": "code",
   "execution_count": 326,
   "metadata": {},
   "outputs": [
    {
     "data": {
      "image/png": "[encoded data removed]",
      "text/plain": [
       "<Figure size 576x396 with 1 Axes>"
      ]
     },
     "metadata": {},
     "output_type": "display_data"
    }
   ],
   "source": [
    "plt.scatter(X, actual_data, marker='+', c='y')\n",
    "plt.title('Actual Data') \n",
    "plt.show()"
   ]
  },
  {
   "cell_type": "markdown",
   "metadata": {},
   "source": [
    "# Genetic Algorithm Functions"
   ]
  },
  {
   "cell_type": "code",
   "execution_count": 327,
   "metadata": {},
   "outputs": [],
   "source": [
    "def individual(degree):\n",
    "    n = degree + 1\n",
    "    indv = []\n",
    "    for i in range(n):\n",
    "        indv.append(np.random.rand())\n",
    "    return indv\n",
    "\n",
    "def generate_population(npop, degree, X_train, X_test, y_train, y_test):\n",
    "    pop = []\n",
    "    for i in range(npop):\n",
    "        pop.append(individual(degree))\n",
    "    pop = pd.DataFrame(pop)\n",
    "    pop = compute_fitness(pop, degree, X_train, X_test, y_train, y_test)\n",
    "    return pop\n",
    "\n",
    "def compute_fitness(pop, degree, X_train, X_test, y_train, y_test):\n",
    "    npop = len(pop)\n",
    "    pop['rmse'] = 0    \n",
    "    for i in range(npop):\n",
    "        y_train_ = np.polyval(pop.iloc[i][0:degree+1], X_train)\n",
    "        rmse_train_ = np.sqrt(np.mean((y_train_ - y_train)**2))\n",
    "        y_test_ = np.polyval(pop.iloc[i][0:degree+1], X_test)\n",
    "        rmse_test_ = np.sqrt(np.mean((y_test_ - y_test)**2))\n",
    "        rmse_ = np.mean([rmse_train_, rmse_test_])\n",
    "        pop.loc[i, 'rmse'] = rmse_\n",
    "    pop['fitness_val'] = 1/pop['rmse']\n",
    "    return pop\n",
    "\n",
    "def selection(pop, degree, elit=0.1):\n",
    "    npop = len(pop)\n",
    "    nselected = npop/2\n",
    "    nelit = round(elit*npop)\n",
    "    nonelit = int(nselected - nelit)\n",
    "    selected = []\n",
    "    \n",
    "    pop_sorted = pop.sort_values(['fitness_val'], ascending=False)\n",
    "    for i in range(nelit):\n",
    "        selected.append(pop_sorted.iloc[i,:])\n",
    "    \n",
    "    # Creating roulette partition\n",
    "    pop['fitness prob'] = pop['fitness_val']/sum(pop['fitness_val'])\n",
    "    pop['fitness prob cumsum'] = pop['fitness prob'].cumsum()\n",
    "    \n",
    "    # Selecting individuals\n",
    "    for i in range(nonelit):\n",
    "        randomnum = random.random()\n",
    "        for i in range(1, len(pop)):\n",
    "            if randomnum < pop['fitness prob cumsum'][0]:\n",
    "                selected.append(pop.iloc[0,:])\n",
    "                break\n",
    "            elif (randomnum > pop['fitness prob cumsum'][i-1]) and (randomnum < pop['fitness prob cumsum'][i]):\n",
    "                selected.append(pop.iloc[i,:])\n",
    "                break\n",
    "    selected = pd.DataFrame(selected)\n",
    "    pop = pop.drop(['fitness prob', 'fitness prob cumsum'], axis=1)\n",
    "    selected = selected.drop(['fitness prob', 'fitness prob cumsum'], axis=1)\n",
    "    selected = selected.sample(frac=1).reset_index(drop=True)     # Shuffle the dataframe\n",
    "    return selected\n",
    "\n",
    "def crossover(selected, degree, crossrate, elit=0.1):\n",
    "    npop = 2*len(selected)\n",
    "    nselected = len(selected)\n",
    "    nelit = round(elit*npop)\n",
    "    nonelit = int(npop - nelit)    \n",
    "    new_gen = []\n",
    "    \n",
    "    selected_sorted = selected.sort_values(['fitness_val'], ascending=False)\n",
    "    for i in range(nelit):\n",
    "        new_gen.append(np.asarray(selected.iloc[i,0:degree+1]))\n",
    "    \n",
    "    \n",
    "    for i in range(nonelit):\n",
    "        parentA = selected.iloc[np.random.randint(nselected), 0:degree+1]\n",
    "        parentB = selected.iloc[np.random.randint(nselected), 0:degree+1]\n",
    "        cross_points = np.random.rand(1, degree+1) < crossrate\n",
    "        child = np.where(cross_points, parentA, parentB)\n",
    "        new_gen.append(child[0])\n",
    "    new_gen = pd.DataFrame(new_gen)\n",
    "    new_gen = new_gen.sample(frac=1).reset_index(drop=True)    # Shuffle the dataframe\n",
    "    return new_gen\n",
    "\n",
    "def mutation(new_gen, degree, mutation_rate):\n",
    "    npop = len(new_gen)\n",
    "    for i in range(npop):\n",
    "        mutation_points = np.random.rand(1,degree+1) < mutation_rate\n",
    "        for j in range(degree+1):\n",
    "            if mutation_points[0][j] == True:\n",
    "                new_gen.iloc[i,j] = new_gen.iloc[i,j] + (-1)**i * np.random.rand() * 1e01\n",
    "    mutated = new_gen\n",
    "    return mutated"
   ]
  },
  {
   "cell_type": "markdown",
   "metadata": {},
   "source": [
    "# Main"
   ]
  },
  {
   "cell_type": "code",
   "execution_count": 328,
   "metadata": {
    "scrolled": true
   },
   "outputs": [
    {
     "name": "stdout",
     "output_type": "stream",
     "text": [
      "Generation 1\n",
      "Generation 2\n",
      "Generation 3\n",
      "Generation 4\n",
      "Generation 5\n",
      "Generation 6\n",
      "Generation 7\n",
      "Generation 8\n",
      "Generation 9\n",
      "Generation 10\n",
      "Generation 11\n",
      "Generation 12\n",
      "Generation 13\n",
      "Generation 14\n",
      "Generation 15\n",
      "Generation 16\n",
      "Generation 17\n",
      "Generation 18\n",
      "Generation 19\n",
      "Generation 20\n",
      "Generation 21\n",
      "Generation 22\n",
      "Generation 23\n",
      "Generation 24\n",
      "Generation 25\n",
      "Generation 26\n",
      "Generation 27\n",
      "Generation 28\n",
      "Generation 29\n",
      "Generation 30\n",
      "Generation 31\n",
      "Generation 32\n",
      "Generation 33\n",
      "Generation 34\n",
      "Generation 35\n",
      "Generation 36\n",
      "Generation 37\n",
      "Generation 38\n",
      "Generation 39\n",
      "Generation 40\n",
      "Generation 41\n",
      "Generation 42\n",
      "Generation 43\n",
      "Generation 44\n",
      "Generation 45\n",
      "Generation 46\n",
      "Generation 47\n",
      "Generation 48\n",
      "Generation 49\n",
      "Generation 50\n"
     ]
    }
   ],
   "source": [
    "npop = 100\n",
    "ngen = 50\n",
    "degree = 5\n",
    "crossrate = 0.5\n",
    "mutation_rate = 0.1\n",
    "\n",
    "# Set empty variable\n",
    "rmse_history = []\n",
    "param_history = []\n",
    "\n",
    "# Generate initial population\n",
    "initial_pop = generate_population(npop, degree, X_train, X_test, y_train, y_test)\n",
    "pop = initial_pop\n",
    "\n",
    "for i in range(ngen):\n",
    "    selected = selection(pop, degree)\n",
    "    new_gen = crossover(selected, degree, crossrate)\n",
    "    mutated = mutation(new_gen, degree, mutation_rate)\n",
    "    pop = compute_fitness(mutated, degree, X_train, X_test, y_train, y_test)\n",
    "    \n",
    "    idx_max = pop['fitness_val'].idxmax()\n",
    "    rmse_history.append(pop.loc[idx_max, 'rmse'])\n",
    "    param_history.append(pop.iloc[idx_max,:])\n",
    "    print(f'Generation {i+1}')"
   ]
  },
  {
   "cell_type": "code",
   "execution_count": 329,
   "metadata": {
    "scrolled": false
   },
   "outputs": [
    {
     "data": {
      "text/plain": [
       "Text(0, 0.5, 'RMSE')"
      ]
     },
     "execution_count": 329,
     "metadata": {},
     "output_type": "execute_result"
    },
    {
     "data": {
      "image/png": "[encoded data removed]",
      "text/plain": [
       "<Figure size 576x396 with 1 Axes>"
      ]
     },
     "metadata": {},
     "output_type": "display_data"
    }
   ],
   "source": [
    "fig, ax = plt.subplots()\n",
    "ax.plot(rmse_history)\n",
    "plt.title('RMSE each Generation')\n",
    "plt.xlabel('Generation')\n",
    "plt.ylabel('RMSE')"
   ]
  },
  {
   "cell_type": "code",
   "execution_count": 330,
   "metadata": {
    "scrolled": true
   },
   "outputs": [
    {
     "data": {
      "text/plain": [
       "0               4.432803\n",
       "1              -6.096640\n",
       "2              12.854326\n",
       "3               5.692669\n",
       "4              16.795298\n",
       "5              14.823922\n",
       "rmse            0.990712\n",
       "fitness_val     1.009375\n",
       "Name: 99, dtype: float64"
      ]
     },
     "execution_count": 330,
     "metadata": {},
     "output_type": "execute_result"
    }
   ],
   "source": [
    "param_history[-1]"
   ]
  },
  {
   "cell_type": "code",
   "execution_count": 331,
   "metadata": {},
   "outputs": [],
   "source": [
    "p = param_history[-1][0:degree+1]\n",
    "y = np.polyval(p, np.linspace(0,1,data_length))"
   ]
  },
  {
   "cell_type": "code",
   "execution_count": 332,
   "metadata": {},
   "outputs": [
    {
     "data": {
      "image/png": "[encoded data removed]",
      "text/plain": [
       "<Figure size 576x288 with 1 Axes>"
      ]
     },
     "metadata": {},
     "output_type": "display_data"
    }
   ],
   "source": [
    "fig, ax = plt.subplots(figsize=(8,4))\n",
    "ax.scatter(np.linspace(0,1,data_length), actual_data, c='y', marker='x', label='Actual')\n",
    "plt.plot(np.linspace(0,1,data_length), y, label='Prediction', color='green')\n",
    "plt.title('Actual Data')\n",
    "plt.show()"
   ]
  },
  {
   "cell_type": "code",
   "execution_count": null,
   "metadata": {},
   "outputs": [],
   "source": []
  }
 ],
 "metadata": {
  "kernelspec": {
   "display_name": "Python 3",
   "language": "python",
   "name": "python3"
  },
  "language_info": {
   "codemirror_mode": {
    "name": "ipython",
    "version": 3
   },
   "file_extension": ".py",
   "mimetype": "text/x-python",
   "name": "python",
   "nbconvert_exporter": "python",
   "pygments_lexer": "ipython3",
   "version": "3.8.2"
  }
 },
 "nbformat": 4,
 "nbformat_minor": 4
}
