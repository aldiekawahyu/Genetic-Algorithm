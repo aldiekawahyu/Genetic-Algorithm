{
  "nbformat": 4,
  "nbformat_minor": 0,
  "metadata": {
    "colab": {
      "name": "Copy of GA-curve-fitting.ipynb",
      "provenance": [],
      "collapsed_sections": [],
      "toc_visible": true
    },
    "kernelspec": {
      "name": "python3",
      "display_name": "Python 3"
    },
    "language_info": {
      "name": "python"
    },
    "gpuClass": "standard"
  },
  "cells": [
    {
      "cell_type": "markdown",
      "source": [
        "# Impor Modul"
      ],
      "metadata": {
        "id": "RrxQdRTOZ0Eu"
      }
    },
    {
      "cell_type": "code",
      "source": [
        "import numpy as np\n",
        "import random\n",
        "import matplotlib.pyplot as plt"
      ],
      "metadata": {
        "id": "dO6iH1YhZ0TN"
      },
      "execution_count": null,
      "outputs": []
    },
    {
      "cell_type": "markdown",
      "source": [
        "# Buat Data Aktual"
      ],
      "metadata": {
        "id": "c7JLMe9HZ372"
      }
    },
    {
      "cell_type": "code",
      "source": [
        "def generate_dataset(a, b, n, deg):\n",
        "    X = np.linspace(a, b, n)\n",
        "    y = np.zeros(n)\n",
        "    for i in range(n):\n",
        "        y[i] += X[i]**deg + np.random.normal(0, 1/2*(b-a))\n",
        "    return X, y\n",
        "\n",
        "\n",
        "def plot_dataset(X, y):\n",
        "    plt.scatter(X, y, marker='x', c='orange')\n",
        "    plt.show()\n",
        "\n",
        "\n",
        "a = -4\n",
        "b = 4\n",
        "n = 100\n",
        "deg = 3\n",
        "X, y = generate_dataset(a, b, n, deg)\n",
        "plot_dataset(X, y)"
      ],
      "metadata": {
        "colab": {
          "base_uri": "https://localhost:8080/",
          "height": 265
        },
        "id": "ipJc8r5biyPJ",
        "outputId": "b4ac93af-692c-4911-bd7a-8dff83a79bc4"
      },
      "execution_count": null,
      "outputs": [
        {
          "output_type": "display_data",
          "data": {
            "text/plain": [
              "<Figure size 432x288 with 1 Axes>"
            ],
            "image/png": "[encoded data removed]"
          },
          "metadata": {
            "needs_background": "light"
          }
        }
      ]
    },
    {
      "cell_type": "code",
      "source": [
        ""
      ],
      "metadata": {
        "id": "UcQPuJpeuTvo"
      },
      "execution_count": null,
      "outputs": []
    },
    {
      "cell_type": "markdown",
      "source": [
        "# Definisi Permasalahan"
      ],
      "metadata": {
        "id": "lZrA8yLfvZ-S"
      }
    },
    {
      "cell_type": "markdown",
      "source": [
        "1. Mencari polinomial berderajat $n$ yang paling cocok dengan datapoints Polinomial yang dicari dibatasi maksimal berderajat `max_degree`. <br>\n",
        "$P_n(x) = a_0 + a_1x + a_2x^2 + \\dots + a_{n-1}x^{n-1} + a_n x^n,\\ n \\leq$ `max_degree`\n",
        "1. Kromosom direpresentasikan sebagai vektor koefisien <br>\n",
        "$\\mathbf{X}^{(j)} = (\\mathbf{X}_1^{(j)}, \\mathbf{X}_2^{(j)}, \\dots, \\mathbf{X}_k^{(j)}),\\ j=1,2, \\dots, g$ <br>\n",
        "$\\mathbf{X}_i^{(j)} = (a_0, a_1, a_2, \\dots, a_{n-1}, a_n),\\ n \\leq$ `max_degree`\n",
        "1. Fungsi fitnes yang dipakai adalah _root mean squared error_ (RMSE). <br>\n",
        "$f = \\displaystyle\\sqrt{\\sum_{i=1}^m \\frac{(\\hat{y}_i - y)^2}{m}}$"
      ],
      "metadata": {
        "id": "OlmFnF-Cv2pP"
      }
    },
    {
      "cell_type": "code",
      "source": [
        "max_degree = 7\n",
        "\n",
        "def fitness_function(y, y_pred):\n",
        "    return np.sqrt(np.mean((y - y_pred)**2))\n",
        "\n",
        "\n",
        "def individual(max_degree):\n",
        "    chromosome = np.zeros(max_degree + 1)\n",
        "    \n",
        "    degree = np.random.randint(max_degree + 1)\n",
        "    n = degree + 1\n",
        "\n",
        "    chromosome[:n] = np.random.randn(n)\n",
        "\n",
        "    return chromosome\n",
        "\n",
        "\n",
        "def compute_fitness(chromosome, X, y):\n",
        "    y_pred = np.polyval(chromosome[::-1], X)\n",
        "    return fitness_function(y, y_pred)\n"
      ],
      "metadata": {
        "id": "zdkPYFS2vdrD"
      },
      "execution_count": null,
      "outputs": []
    },
    {
      "cell_type": "code",
      "source": [
        ""
      ],
      "metadata": {
        "id": "sdWBlXZYLZdh"
      },
      "execution_count": null,
      "outputs": []
    },
    {
      "cell_type": "markdown",
      "source": [
        "# Operator GA"
      ],
      "metadata": {
        "id": "r4URfY2UZ78N"
      }
    },
    {
      "cell_type": "markdown",
      "source": [
        "## Selection"
      ],
      "metadata": {
        "id": "0mv3FQUfdBDy"
      }
    },
    {
      "cell_type": "code",
      "source": [
        "def selection(pop, elitism=None):\n",
        "    if elitism == None:\n",
        "        elitism = 0\n",
        "\n",
        "    n_pop = pop.shape[0]\n",
        "    n_var = pop.shape[-1] - 1\n",
        "\n",
        "    n_elit = int(elitism * n_pop)\n",
        "    if n_elit % 2 == 1:  # ganjil\n",
        "        n_elit += 1\n",
        "    n_nonelit = int(n_pop/2) - n_elit    \n",
        "\n",
        "    # Ambil individu-individu elit    \n",
        "    idx_sort = np.argsort(pop[:,-1])  # Sorting berdasarkan fitness value secara ascending\n",
        "    pop_sorted = pop[idx_sort]\n",
        "    pop_elit = pop_sorted[:n_elit, :]\n",
        "\n",
        "    # Proses seleksi untuk mengambil individu-individu non elit\n",
        "    pop_nonelit = np.zeros(shape=(n_nonelit, n_var + 1))\n",
        "\n",
        "    inverse_cost = [1/x[-1] for x in pop]\n",
        "    total_cost = np.sum(inverse_cost)\n",
        "    prob_selected = inverse_cost / total_cost\n",
        "    cumsum = np.cumsum(prob_selected)\n",
        "    \n",
        "    # for i in range(nselected):    \n",
        "    for i in range(n_nonelit):\n",
        "        r = np.random.rand()\n",
        "        if r <= cumsum[0]:\n",
        "            # selected[i, 1:nvar+1] = pop[1, 1:nvar + 1 + 1]\n",
        "            pop_nonelit[i, 1:n_var+1] = pop[1, 1:n_var + 1 + 1]\n",
        "        for j in range(1, n_pop):\n",
        "            if r <= cumsum[j] and r > cumsum[j-1]:\n",
        "                # selected[i, 1:nvar+1] = pop[j, 1:nvar + 1 + 1]\n",
        "                pop_nonelit[i, 1:n_var+1] = pop[j, 1:n_var + 1 + 1]\n",
        "    \n",
        "    # return selected\n",
        "    return pop_elit, pop_nonelit\n"
      ],
      "metadata": {
        "id": "joIH0plEuvAw"
      },
      "execution_count": null,
      "outputs": []
    },
    {
      "cell_type": "markdown",
      "source": [
        "## Crossover"
      ],
      "metadata": {
        "id": "p5nlHy_GvY2x"
      }
    },
    {
      "cell_type": "code",
      "source": [
        "def crossover(pop_elit, pop_nonelit, crossrate):\n",
        "    n_elit = pop_elit.shape[0]\n",
        "    n_nonelit = pop_nonelit.shape[0]\n",
        "    n_var = pop_nonelit.shape[-1] -1\n",
        "\n",
        "    n_pop_nonelit = 2 * (n_elit + n_nonelit) - n_elit\n",
        "    new_gen_nonelit = np.zeros(shape=(n_pop_nonelit, n_var + 1))\n",
        "\n",
        "    for i in range(0, n_pop_nonelit, 2):\n",
        "        # Mengambil 2 parent secara acak\n",
        "        idx = np.random.permutation(n_nonelit)\n",
        "        parent1 = pop_nonelit[idx[0], :n_var]\n",
        "        parent2 = pop_nonelit[idx[1], :n_var]\n",
        "\n",
        "        do_crossover = np.random.rand() < crossrate\n",
        "        if do_crossover:\n",
        "            gamma = 0;\n",
        "            alpha = np.random.uniform(-gamma, 1+gamma, n_var)\n",
        "\n",
        "            child1 = alpha * parent1 + (1-alpha) * parent2;\n",
        "            child2 = alpha * parent2 + (1-alpha) * parent1;\n",
        "\n",
        "            new_gen_nonelit[i, :n_var] = child1\n",
        "            new_gen_nonelit[i+1, :n_var] = child2\n",
        "\n",
        "        else:\n",
        "            new_gen_nonelit[i, :n_var] = parent1\n",
        "            new_gen_nonelit[i+1, :n_var] = parent2\n",
        "\n",
        "    return new_gen_nonelit\n"
      ],
      "metadata": {
        "id": "Ko9GkbwpBF0d"
      },
      "execution_count": null,
      "outputs": []
    },
    {
      "cell_type": "markdown",
      "source": [
        "## Mutation"
      ],
      "metadata": {
        "id": "_Mb9wj01vujR"
      }
    },
    {
      "cell_type": "code",
      "source": [
        "def mutation(new_gen_nonelit, mutation_rate):\n",
        "    npop = new_gen_nonelit.shape[0]\n",
        "    nvar = new_gen_nonelit.shape[-1] - 1\n",
        "\n",
        "    mutated = np.copy(new_gen_nonelit)\n",
        "\n",
        "    for i in range(npop):\n",
        "        do_mutation = np.random.rand() < mutation_rate\n",
        "        if do_mutation:\n",
        "            j = np.random.randint(nvar)  # Posisi gen yang akan dimutasi\n",
        "            new_gen_nonelit[i, j] = new_gen_nonelit[i, j] + 10 * np.random.randn()\n",
        "\n",
        "    return mutated\n"
      ],
      "metadata": {
        "id": "P1N4RCLT0Y0H"
      },
      "execution_count": null,
      "outputs": []
    },
    {
      "cell_type": "markdown",
      "source": [
        "## Recompute Fitness Value"
      ],
      "metadata": {
        "id": "-eJbgXGEvxW9"
      }
    },
    {
      "cell_type": "code",
      "source": [
        "def mutated_fitness(mutated_nonelit, X, y):\n",
        "    npop = mutated_nonelit.shape[0]\n",
        "    nvar = mutated_nonelit.shape[-1] -1\n",
        "\n",
        "    for i in range(npop):\n",
        "        mutated_nonelit[i, -1] = compute_fitness(mutated_nonelit[i, :nvar], X, y)\n",
        "    \n",
        "    return mutated_nonelit\n"
      ],
      "metadata": {
        "id": "1Mp3iI2pEYoo"
      },
      "execution_count": null,
      "outputs": []
    },
    {
      "cell_type": "markdown",
      "source": [
        "# Main"
      ],
      "metadata": {
        "id": "ddz37zWo7Gp4"
      }
    },
    {
      "cell_type": "code",
      "source": [
        "def generate_pop(npop, max_degree, X, y):\n",
        "    pop = np.zeros(shape=(npop, max_degree + 1 + 1))  # +1 terakhir untuk menaruh nilai fitnes\n",
        "    for i in range(npop):\n",
        "        pop[i, :max_degree + 1] = individual(max_degree)\n",
        "        pop[i, -1] = compute_fitness(pop[i, :max_degree + 1 + 1], X, y)\n",
        "    return pop\n"
      ],
      "metadata": {
        "id": "IAvOugjZ7Fyp"
      },
      "execution_count": null,
      "outputs": []
    },
    {
      "cell_type": "code",
      "source": [
        "def ga_curve_fitting(max_degree, X, y, npop, ngen, elitism=0.1, crossrate=0.8, mutation_rate=0.05):\n",
        "    pop = generate_pop(npop, max_degree, X, y)  # Generate populasi awal\n",
        "\n",
        "    fitness_history = np.zeros(ngen)\n",
        "\n",
        "    for i in range(ngen):\n",
        "        pop_elit, pop_nonelit = selection(pop, elitism)\n",
        "        new_gen_nonelit = crossover(pop_elit, pop_nonelit, crossrate)\n",
        "        mutated_nonelit = mutation(new_gen_nonelit, mutation_rate)\n",
        "        new_pop_nonelit = mutated_fitness(mutated_nonelit, X, y)\n",
        "\n",
        "        pop = np.vstack([pop_elit, new_pop_nonelit])\n",
        "\n",
        "        idx_best = np.argmin(pop[:, -1])\n",
        "        fitness_history[i] = pop[idx_best, -1]\n",
        "\n",
        "        if i % 10 == 9:\n",
        "            print(f'Generation {i+1}, fitness = {pop[idx_best, -1]}')\n",
        "\n",
        "    solution = pop[idx_best, :-1]\n",
        "    fitness_value = pop[idx_best, -1]\n",
        "\n",
        "    return solution, fitness_value, fitness_history"
      ],
      "metadata": {
        "id": "lhSZaVl97-cs"
      },
      "execution_count": null,
      "outputs": []
    },
    {
      "cell_type": "code",
      "source": [
        "n_pop = 100\n",
        "n_gen = 100\n",
        "\n",
        "solution, fitness_value, fitness_history = ga_curve_fitting(max_degree, X, y, n_pop, n_gen)"
      ],
      "metadata": {
        "colab": {
          "base_uri": "https://localhost:8080/"
        },
        "id": "PgMlQwd78AIV",
        "outputId": "2248ebe4-51a4-4983-f114-9ae0c2a4461d"
      },
      "execution_count": null,
      "outputs": [
        {
          "output_type": "stream",
          "name": "stdout",
          "text": [
            "Generation 10, fitness = 3.9684097210852047\n",
            "Generation 20, fitness = 3.9602032416347446\n",
            "Generation 30, fitness = 3.9589929159147705\n",
            "Generation 40, fitness = 3.958938115550569\n",
            "Generation 50, fitness = 3.958938115550569\n",
            "Generation 60, fitness = 3.958938115550569\n",
            "Generation 70, fitness = 3.958938115550569\n",
            "Generation 80, fitness = 3.958938115550569\n",
            "Generation 90, fitness = 3.958938115550569\n",
            "Generation 100, fitness = 3.958938115550569\n"
          ]
        }
      ]
    },
    {
      "cell_type": "code",
      "source": [
        "fig, ax = plt.subplots(figsize=(9, 7))\n",
        "ax.plot(fitness_history, c='black', linewidth=4)\n",
        "plt.title('Nilai Fitnes Tiap Generasi')\n",
        "plt.xlabel('Generasi')\n",
        "plt.ylabel('RMSE')"
      ],
      "metadata": {
        "colab": {
          "base_uri": "https://localhost:8080/",
          "height": 475
        },
        "id": "KwkwlYMINtgP",
        "outputId": "f2011abf-ba54-4b14-d1c6-2691f6dead55"
      },
      "execution_count": null,
      "outputs": [
        {
          "output_type": "execute_result",
          "data": {
            "text/plain": [
              "Text(0, 0.5, 'RMSE')"
            ]
          },
          "metadata": {},
          "execution_count": 31
        },
        {
          "output_type": "display_data",
          "data": {
            "text/plain": [
              "<Figure size 648x504 with 1 Axes>"
            ],
            "image/png": "[encoded data removed]"
          },
          "metadata": {
            "needs_background": "light"
          }
        }
      ]
    },
    {
      "cell_type": "code",
      "source": [
        "y_pred = np.polyval(solution[::-1], X)\n",
        "\n",
        "fig, ax = plt.subplots(figsize=(9, 7))\n",
        "ax.scatter(X, y, marker='x', c='orange', label='Actual')\n",
        "ax.plot(X, y_pred, c='blue', label='Pn(x)')\n",
        "ax.set_xlabel('x')\n",
        "ax.set_ylabel('y')\n",
        "plt.title(f'RMSE: {fitness_value}')\n",
        "plt.legend()\n",
        "plt.show()"
      ],
      "metadata": {
        "colab": {
          "base_uri": "https://localhost:8080/",
          "height": 458
        },
        "id": "q2ogGvT6J4Ul",
        "outputId": "821a9186-489c-4a1c-cc8a-9ea09fa5756e"
      },
      "execution_count": null,
      "outputs": [
        {
          "output_type": "display_data",
          "data": {
            "text/plain": [
              "<Figure size 648x504 with 1 Axes>"
            ],
            "image/png": "[encoded data removed]"
          },
          "metadata": {
            "needs_background": "light"
          }
        }
      ]
    },
    {
      "cell_type": "code",
      "source": [
        ""
      ],
      "metadata": {
        "id": "9TtOpYxANXBg"
      },
      "execution_count": null,
      "outputs": []
    }
  ]
}